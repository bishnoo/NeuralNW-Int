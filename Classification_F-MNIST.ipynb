{
 "cells": [
  {
   "cell_type": "markdown",
   "metadata": {},
   "source": [
    "### A MNIST-like fashion product database\n",
    "\n",
    "In this, we classify the images into respective classes given in the dataset. We use a Neural Net and a Deep Neural Net in Keras to solve this and check the accuracy scores."
   ]
  },
  {
   "cell_type": "markdown",
   "metadata": {
    "slideshow": {
     "slide_type": "slide"
    }
   },
   "source": [
    "### Load tensorflow"
   ]
  },
  {
   "cell_type": "code",
   "execution_count": 6,
   "metadata": {},
   "outputs": [],
   "source": [
    "import tensorflow as tf\n",
    "tf.set_random_seed(42)"
   ]
  },
  {
   "cell_type": "code",
   "execution_count": 7,
   "metadata": {},
   "outputs": [
    {
     "data": {
      "text/plain": [
       "'1.10.0'"
      ]
     },
     "execution_count": 7,
     "metadata": {},
     "output_type": "execute_result"
    }
   ],
   "source": [
    "tf.__version__"
   ]
  },
  {
   "cell_type": "markdown",
   "metadata": {
    "slideshow": {
     "slide_type": "slide"
    }
   },
   "source": [
    "### Collect Data"
   ]
  },
  {
   "cell_type": "code",
   "execution_count": 8,
   "metadata": {},
   "outputs": [
    {
     "name": "stderr",
     "output_type": "stream",
     "text": [
      "Using TensorFlow backend.\n"
     ]
    }
   ],
   "source": [
    "import keras"
   ]
  },
  {
   "cell_type": "code",
   "execution_count": 9,
   "metadata": {},
   "outputs": [
    {
     "name": "stdout",
     "output_type": "stream",
     "text": [
      "Downloading data from http://fashion-mnist.s3-website.eu-central-1.amazonaws.com/train-labels-idx1-ubyte.gz\n",
      "32768/29515 [=================================] - 0s 5us/step\n",
      "Downloading data from http://fashion-mnist.s3-website.eu-central-1.amazonaws.com/train-images-idx3-ubyte.gz\n",
      "26427392/26421880 [==============================] - 8s 0us/step\n",
      "Downloading data from http://fashion-mnist.s3-website.eu-central-1.amazonaws.com/t10k-labels-idx1-ubyte.gz\n",
      "8192/5148 [===============================================] - 0s 0us/step\n",
      "Downloading data from http://fashion-mnist.s3-website.eu-central-1.amazonaws.com/t10k-images-idx3-ubyte.gz\n",
      "4423680/4422102 [==============================] - 2s 1us/step\n"
     ]
    }
   ],
   "source": [
    "(trainX, trainY), (testX, testY) = keras.datasets.fashion_mnist.load_data()"
   ]
  },
  {
   "cell_type": "code",
   "execution_count": 12,
   "metadata": {
    "slideshow": {
     "slide_type": "fragment"
    }
   },
   "outputs": [
    {
     "name": "stdout",
     "output_type": "stream",
     "text": [
      "[9 2 1 1 6]\n"
     ]
    }
   ],
   "source": [
    "print(testY[0:5])"
   ]
  },
  {
   "cell_type": "markdown",
   "metadata": {
    "slideshow": {
     "slide_type": "slide"
    }
   },
   "source": [
    "### Convert both training and testing labels into one-hot vectors.\n",
    "\n",
    "**Hint:** check **tf.keras.utils.to_categorical()**"
   ]
  },
  {
   "cell_type": "code",
   "execution_count": 22,
   "metadata": {},
   "outputs": [],
   "source": [
    "trainY = tf.keras.utils.to_categorical(trainY)"
   ]
  },
  {
   "cell_type": "code",
   "execution_count": 23,
   "metadata": {},
   "outputs": [],
   "source": [
    "testY = tf.keras.utils.to_categorical(testY)"
   ]
  },
  {
   "cell_type": "markdown",
   "metadata": {},
   "source": [
    "#### Expected Output should look like this"
   ]
  },
  {
   "cell_type": "code",
   "execution_count": 24,
   "metadata": {
    "scrolled": false,
    "slideshow": {
     "slide_type": "fragment"
    }
   },
   "outputs": [
    {
     "name": "stdout",
     "output_type": "stream",
     "text": [
      "(60000, 10)\n",
      "First 5 examples now are:  [[0. 0. 0. 0. 0. 0. 0. 0. 0. 1.]\n",
      " [1. 0. 0. 0. 0. 0. 0. 0. 0. 0.]\n",
      " [1. 0. 0. 0. 0. 0. 0. 0. 0. 0.]\n",
      " [0. 0. 0. 1. 0. 0. 0. 0. 0. 0.]\n",
      " [1. 0. 0. 0. 0. 0. 0. 0. 0. 0.]]\n"
     ]
    }
   ],
   "source": [
    "print(trainY.shape)\n",
    "print('First 5 examples now are: ', trainY[0:5])"
   ]
  },
  {
   "cell_type": "markdown",
   "metadata": {},
   "source": [
    "### Visualize the data\n",
    "\n",
    "Plot first 10 images in the triaining set and their labels."
   ]
  },
  {
   "cell_type": "code",
   "execution_count": 77,
   "metadata": {
    "scrolled": true
   },
   "outputs": [
    {
     "data": {
      "image/png": "[encoded data removed]",
      "text/plain": [
       "<matplotlib.figure.Figure at 0x7f60784a5950>"
      ]
     },
     "metadata": {},
     "output_type": "display_data"
    },
    {
     "name": "stdout",
     "output_type": "stream",
     "text": [
      "label for each of the above image:\n",
      "9 0 0 3 0 2 7 2 5 5\n"
     ]
    }
   ],
   "source": [
    "plt.plot\n",
    "\n",
    "#### Expected Output"
   ]
  },
  {
   "cell_type": "code",
   "execution_count": 27,
   "metadata": {},
   "outputs": [
    {
     "name": "stdout",
     "output_type": "stream",
     "text": [
      "0\n"
     ]
    },
    {
     "data": {
      "image/png": "[encoded data removed]",
      "text/plain": [
       "<Figure size 432x288 with 1 Axes>"
      ]
     },
     "metadata": {},
     "output_type": "display_data"
    },
    {
     "name": "stdout",
     "output_type": "stream",
     "text": [
      "1\n"
     ]
    },
    {
     "data": {
      "image/png": "[encoded data removed]",
      "text/plain": [
       "<Figure size 432x288 with 1 Axes>"
      ]
     },
     "metadata": {},
     "output_type": "display_data"
    },
    {
     "name": "stdout",
     "output_type": "stream",
     "text": [
      "2\n"
     ]
    },
    {
     "data": {
      "image/png": "[encoded data removed]",
      "text/plain": [
       "<Figure size 432x288 with 1 Axes>"
      ]
     },
     "metadata": {},
     "output_type": "display_data"
    },
    {
     "name": "stdout",
     "output_type": "stream",
     "text": [
      "3\n"
     ]
    },
    {
     "data": {
      "image/png": "[encoded data removed]",
      "text/plain": [
       "<Figure size 432x288 with 1 Axes>"
      ]
     },
     "metadata": {},
     "output_type": "display_data"
    },
    {
     "name": "stdout",
     "output_type": "stream",
     "text": [
      "4\n"
     ]
    },
    {
     "data": {
      "image/png": "[encoded data removed]",
      "text/plain": [
       "<Figure size 432x288 with 1 Axes>"
      ]
     },
     "metadata": {},
     "output_type": "display_data"
    },
    {
     "name": "stdout",
     "output_type": "stream",
     "text": [
      "5\n"
     ]
    },
    {
     "data": {
      "image/png": "[encoded data removed]",
      "text/plain": [
       "<Figure size 432x288 with 1 Axes>"
      ]
     },
     "metadata": {},
     "output_type": "display_data"
    },
    {
     "name": "stdout",
     "output_type": "stream",
     "text": [
      "6\n"
     ]
    },
    {
     "data": {
      "image/png": "[encoded data removed]",
      "text/plain": [
       "<Figure size 432x288 with 1 Axes>"
      ]
     },
     "metadata": {},
     "output_type": "display_data"
    },
    {
     "name": "stdout",
     "output_type": "stream",
     "text": [
      "7\n"
     ]
    },
    {
     "data": {
      "image/png": "[encoded data removed]",
      "text/plain": [
       "<Figure size 432x288 with 1 Axes>"
      ]
     },
     "metadata": {},
     "output_type": "display_data"
    },
    {
     "name": "stdout",
     "output_type": "stream",
     "text": [
      "8\n"
     ]
    },
    {
     "data": {
      "image/png": "[encoded data removed]",
      "text/plain": [
       "<Figure size 432x288 with 1 Axes>"
      ]
     },
     "metadata": {},
     "output_type": "display_data"
    },
    {
     "name": "stdout",
     "output_type": "stream",
     "text": [
      "9\n"
     ]
    },
    {
     "data": {
      "image/png": "[encoded data removed]",
      "text/plain": [
       "<Figure size 432x288 with 1 Axes>"
      ]
     },
     "metadata": {},
     "output_type": "display_data"
    }
   ],
   "source": [
    "import matplotlib.pyplot as plt\n",
    "labels = [9, 0, 0, 3, 0, 2, 7, 2, 5, 5]\n",
    "for i in range(10):\n",
    "    print(i)\n",
    "    plt.title(labels[i])\n",
    "    plt.imshow(trainX[i], cmap=\"gray\")\n",
    "    plt.show()\n"
   ]
  },
  {
   "cell_type": "markdown",
   "metadata": {
    "slideshow": {
     "slide_type": "slide"
    }
   },
   "source": [
    "### Build a neural Network with a cross entropy loss function and sgd optimizer in Keras. The output layer with 10 neurons as we have 10 classes."
   ]
  },
  {
   "cell_type": "code",
   "execution_count": 28,
   "metadata": {},
   "outputs": [],
   "source": [
    "#Initialize Sequential model\n",
    "model = tf.keras.models.Sequential()\n",
    "\n",
    "#Reshape data from 2D to 1D -> 28x28 to 784\n",
    "model.add(tf.keras.layers.Reshape((784,),input_shape=(28,28,)))\n",
    "\n",
    "#Normalize the data\n",
    "model.add(tf.keras.layers.BatchNormalization())\n",
    "\n",
    "#Add Dense Layer which provides 10 Outputs after applying softmax\n",
    "model.add(tf.keras.layers.Dense(10, activation='softmax'))\n",
    "\n",
    "#Comile the model\n",
    "model.compile(optimizer='sgd', loss='categorical_crossentropy', metrics=['accuracy'])"
   ]
  },
  {
   "cell_type": "markdown",
   "metadata": {
    "slideshow": {
     "slide_type": "slide"
    }
   },
   "source": [
    "### Execute the model using model.fit()"
   ]
  },
  {
   "cell_type": "code",
   "execution_count": 29,
   "metadata": {},
   "outputs": [
    {
     "name": "stdout",
     "output_type": "stream",
     "text": [
      "Train on 60000 samples, validate on 10000 samples\n",
      "Epoch 1/5\n",
      "60000/60000 [==============================] - 5s 78us/step - loss: 0.5967 - acc: 0.7967 - val_loss: 0.5110 - val_acc: 0.8263\n",
      "Epoch 2/5\n",
      "60000/60000 [==============================] - 4s 61us/step - loss: 0.4889 - acc: 0.8303 - val_loss: 0.4847 - val_acc: 0.8332\n",
      "Epoch 3/5\n",
      "60000/60000 [==============================] - 4s 64us/step - loss: 0.4683 - acc: 0.8393 - val_loss: 0.4802 - val_acc: 0.8335\n",
      "Epoch 4/5\n",
      "60000/60000 [==============================] - 4s 60us/step - loss: 0.4581 - acc: 0.8439 - val_loss: 0.4732 - val_acc: 0.8369\n",
      "Epoch 5/5\n",
      "60000/60000 [==============================] - 4s 61us/step - loss: 0.4498 - acc: 0.8451 - val_loss: 0.4669 - val_acc: 0.8394\n"
     ]
    },
    {
     "data": {
      "text/plain": [
       "<tensorflow.python.keras.callbacks.History at 0x24303617470>"
      ]
     },
     "execution_count": 29,
     "metadata": {},
     "output_type": "execute_result"
    }
   ],
   "source": [
    "model.fit(trainX, trainY, \n",
    "          validation_data=(testX, testY), \n",
    "          epochs=5,\n",
    "          batch_size=32)"
   ]
  },
  {
   "cell_type": "markdown",
   "metadata": {
    "slideshow": {
     "slide_type": "slide"
    }
   },
   "source": [
    "### In the above Neural Network model add Batch Normalization layer after the input layer and repeat the steps."
   ]
  },
  {
   "cell_type": "code",
   "execution_count": 30,
   "metadata": {},
   "outputs": [],
   "source": [
    "#Initialize Sequential model\n",
    "model1 = tf.keras.models.Sequential()\n",
    "\n",
    "#Reshape data from 2D to 1D -> 28x28 to 784\n",
    "model1.add(tf.keras.layers.Reshape((784,),input_shape=(28,28,)))\n",
    "\n",
    "#Normalize the data\n",
    "model1.add(tf.keras.layers.BatchNormalization())\n",
    "\n",
    "#Add Dense Layer which provides 10 Outputs after applying softmax\n",
    "model1.add(tf.keras.layers.Dense(10, activation='softmax'))\n",
    "\n",
    "#Comile the model\n",
    "model1.compile(optimizer='sgd', loss='categorical_crossentropy', metrics=['accuracy'])"
   ]
  },
  {
   "cell_type": "markdown",
   "metadata": {
    "slideshow": {
     "slide_type": "slide"
    }
   },
   "source": [
    "### Execute the model"
   ]
  },
  {
   "cell_type": "code",
   "execution_count": 31,
   "metadata": {},
   "outputs": [
    {
     "name": "stdout",
     "output_type": "stream",
     "text": [
      "Train on 60000 samples, validate on 10000 samples\n",
      "Epoch 1/5\n",
      "60000/60000 [==============================] - 4s 66us/step - loss: 0.5964 - acc: 0.7956 - val_loss: 0.5144 - val_acc: 0.8237\n",
      "Epoch 2/5\n",
      "60000/60000 [==============================] - 4s 61us/step - loss: 0.4900 - acc: 0.8319 - val_loss: 0.4854 - val_acc: 0.8323\n",
      "Epoch 3/5\n",
      "60000/60000 [==============================] - 4s 60us/step - loss: 0.4663 - acc: 0.8389 - val_loss: 0.4822 - val_acc: 0.8334\n",
      "Epoch 4/5\n",
      "60000/60000 [==============================] - 4s 67us/step - loss: 0.4565 - acc: 0.8426 - val_loss: 0.4747 - val_acc: 0.8403\n",
      "Epoch 5/5\n",
      "60000/60000 [==============================] - 4s 61us/step - loss: 0.4475 - acc: 0.8464 - val_loss: 0.4688 - val_acc: 0.8410\n"
     ]
    },
    {
     "data": {
      "text/plain": [
       "<tensorflow.python.keras.callbacks.History at 0x24303ff4e48>"
      ]
     },
     "execution_count": 31,
     "metadata": {},
     "output_type": "execute_result"
    }
   ],
   "source": [
    "model1.fit(trainX, trainY, \n",
    "          validation_data=(testX, testY), \n",
    "          epochs=5,\n",
    "          batch_size=32)"
   ]
  },
  {
   "cell_type": "markdown",
   "metadata": {},
   "source": [
    "### Customize the learning rate to 0.001 in sgd optimizer and run the model"
   ]
  },
  {
   "cell_type": "code",
   "execution_count": 32,
   "metadata": {},
   "outputs": [],
   "source": [
    "sgd_optimizer = tf.keras.optimizers.SGD(lr=0.001)\n",
    "model1.compile(optimizer=sgd_optimizer, loss='mse')"
   ]
  },
  {
   "cell_type": "code",
   "execution_count": 33,
   "metadata": {},
   "outputs": [
    {
     "name": "stdout",
     "output_type": "stream",
     "text": [
      "Train on 60000 samples, validate on 10000 samples\n",
      "Epoch 1/5\n",
      "60000/60000 [==============================] - 4s 66us/step - loss: 0.0217 - val_loss: 0.0229\n",
      "Epoch 2/5\n",
      "60000/60000 [==============================] - 3s 56us/step - loss: 0.0216 - val_loss: 0.0228\n",
      "Epoch 3/5\n",
      "60000/60000 [==============================] - 3s 56us/step - loss: 0.0216 - val_loss: 0.0229\n",
      "Epoch 4/5\n",
      "60000/60000 [==============================] - 4s 65us/step - loss: 0.0215 - val_loss: 0.0228\n",
      "Epoch 5/5\n",
      "60000/60000 [==============================] - 4s 65us/step - loss: 0.0217 - val_loss: 0.0229\n"
     ]
    },
    {
     "data": {
      "text/plain": [
       "<tensorflow.python.keras.callbacks.History at 0x24303c42080>"
      ]
     },
     "execution_count": 33,
     "metadata": {},
     "output_type": "execute_result"
    }
   ],
   "source": [
    "model1.fit(trainX, trainY, \n",
    "          validation_data=(testX, testY), \n",
    "          epochs=5,\n",
    "          batch_size=32)"
   ]
  },
  {
   "cell_type": "markdown",
   "metadata": {
    "slideshow": {
     "slide_type": "slide"
    }
   },
   "source": [
    "### Build the Neural Network model with 3 Dense layers with 30(feel free to play with the no.of neurons and the layers),10 neurons respectively in each layer. Use cross entropy loss function and singmoid as activation in the hidden layers and softmax as activation function in the output layer. Use sgd optimizer with learning rate 0.03."
   ]
  },
  {
   "cell_type": "code",
   "execution_count": 35,
   "metadata": {},
   "outputs": [],
   "source": [
    "#Initialize Sequential model\n",
    "model2 = tf.keras.models.Sequential()\n",
    "\n",
    "#Reshape data from 2D to 1D -> 28x28 to 784\n",
    "model2.add(tf.keras.layers.Reshape((784,),input_shape=(28,28,)))\n",
    "\n",
    "#Normalize the data\n",
    "model2.add(tf.keras.layers.BatchNormalization())"
   ]
  },
  {
   "cell_type": "code",
   "execution_count": 36,
   "metadata": {},
   "outputs": [],
   "source": [
    "#Add 1st hidden layer\n",
    "model2.add(tf.keras.layers.Dense(45, activation='sigmoid'))\n",
    "#Add 2nd hidden layer\n",
    "model2.add(tf.keras.layers.Dense(20, activation='sigmoid'))\n",
    "#Add 3rd hidden layer\n",
    "model2.add(tf.keras.layers.Dense(45, activation='sigmoid'))"
   ]
  },
  {
   "cell_type": "code",
   "execution_count": 37,
   "metadata": {},
   "outputs": [],
   "source": [
    "#Add OUTPUT layer\n",
    "model2.add(tf.keras.layers.Dense(10, activation='softmax'))"
   ]
  },
  {
   "cell_type": "code",
   "execution_count": null,
   "metadata": {
    "collapsed": true
   },
   "outputs": [],
   "source": []
  },
  {
   "cell_type": "markdown",
   "metadata": {
    "slideshow": {
     "slide_type": "slide"
    }
   },
   "source": [
    "## Review model"
   ]
  },
  {
   "cell_type": "code",
   "execution_count": 38,
   "metadata": {},
   "outputs": [
    {
     "name": "stdout",
     "output_type": "stream",
     "text": [
      "_________________________________________________________________\n",
      "Layer (type)                 Output Shape              Param #   \n",
      "=================================================================\n",
      "reshape_3 (Reshape)          (None, 784)               0         \n",
      "_________________________________________________________________\n",
      "batch_normalization_3 (Batch (None, 784)               3136      \n",
      "_________________________________________________________________\n",
      "dense_2 (Dense)              (None, 45)                35325     \n",
      "_________________________________________________________________\n",
      "dense_3 (Dense)              (None, 20)                920       \n",
      "_________________________________________________________________\n",
      "dense_4 (Dense)              (None, 45)                945       \n",
      "_________________________________________________________________\n",
      "dense_5 (Dense)              (None, 10)                460       \n",
      "=================================================================\n",
      "Total params: 40,786\n",
      "Trainable params: 39,218\n",
      "Non-trainable params: 1,568\n",
      "_________________________________________________________________\n"
     ]
    }
   ],
   "source": [
    "#Create optimizer with non-default learning rate\n",
    "sgd_optimizer = tf.keras.optimizers.SGD(lr=0.03)\n",
    "\n",
    "#Compile the model\n",
    "model2.compile(optimizer=sgd_optimizer, loss='categorical_crossentropy', metrics=['accuracy'])\n",
    "model2.summary()"
   ]
  },
  {
   "cell_type": "markdown",
   "metadata": {
    "slideshow": {
     "slide_type": "slide"
    }
   },
   "source": [
    "### Run the model"
   ]
  },
  {
   "cell_type": "code",
   "execution_count": 39,
   "metadata": {},
   "outputs": [
    {
     "name": "stdout",
     "output_type": "stream",
     "text": [
      "Train on 60000 samples, validate on 10000 samples\n",
      "Epoch 1/30\n",
      "60000/60000 [==============================] - 6s 102us/step - loss: 1.9619 - acc: 0.3575 - val_loss: 1.4111 - val_acc: 0.5429\n",
      "Epoch 2/30\n",
      "60000/60000 [==============================] - 5s 82us/step - loss: 1.1321 - acc: 0.6213 - val_loss: 0.9137 - val_acc: 0.6808\n",
      "Epoch 3/30\n",
      "60000/60000 [==============================] - 5s 81us/step - loss: 0.8081 - acc: 0.7195 - val_loss: 0.6981 - val_acc: 0.7582\n",
      "Epoch 4/30\n",
      "60000/60000 [==============================] - 5s 85us/step - loss: 0.6501 - acc: 0.7741 - val_loss: 0.5843 - val_acc: 0.7909\n",
      "Epoch 5/30\n",
      "60000/60000 [==============================] - 5s 81us/step - loss: 0.5648 - acc: 0.8014 - val_loss: 0.5292 - val_acc: 0.8135\n",
      "Epoch 6/30\n",
      "60000/60000 [==============================] - 5s 84us/step - loss: 0.5118 - acc: 0.8211 - val_loss: 0.4968 - val_acc: 0.8256\n",
      "Epoch 7/30\n",
      "60000/60000 [==============================] - 6s 98us/step - loss: 0.4809 - acc: 0.8324 - val_loss: 0.4714 - val_acc: 0.8354\n",
      "Epoch 8/30\n",
      "60000/60000 [==============================] - 5s 86us/step - loss: 0.4573 - acc: 0.8391 - val_loss: 0.4501 - val_acc: 0.8410\n",
      "Epoch 9/30\n",
      "60000/60000 [==============================] - 5s 77us/step - loss: 0.4405 - acc: 0.8455 - val_loss: 0.4402 - val_acc: 0.8450\n",
      "Epoch 10/30\n",
      "60000/60000 [==============================] - 6s 93us/step - loss: 0.4218 - acc: 0.8522 - val_loss: 0.4301 - val_acc: 0.8477\n",
      "Epoch 11/30\n",
      "60000/60000 [==============================] - 6s 95us/step - loss: 0.4092 - acc: 0.8570 - val_loss: 0.4161 - val_acc: 0.8522\n",
      "Epoch 12/30\n",
      "60000/60000 [==============================] - 5s 80us/step - loss: 0.3976 - acc: 0.8599 - val_loss: 0.4099 - val_acc: 0.8558\n",
      "Epoch 13/30\n",
      "60000/60000 [==============================] - 6s 94us/step - loss: 0.3851 - acc: 0.8642 - val_loss: 0.4050 - val_acc: 0.8587\n",
      "Epoch 14/30\n",
      "60000/60000 [==============================] - 5s 84us/step - loss: 0.3752 - acc: 0.8682 - val_loss: 0.3963 - val_acc: 0.8605\n",
      "Epoch 15/30\n",
      "60000/60000 [==============================] - 6s 92us/step - loss: 0.3689 - acc: 0.8699 - val_loss: 0.3909 - val_acc: 0.8629\n",
      "Epoch 16/30\n",
      "60000/60000 [==============================] - 5s 86us/step - loss: 0.3589 - acc: 0.8715 - val_loss: 0.3875 - val_acc: 0.8635\n",
      "Epoch 17/30\n",
      "60000/60000 [==============================] - 5s 85us/step - loss: 0.3519 - acc: 0.8739 - val_loss: 0.3834 - val_acc: 0.8655\n",
      "Epoch 18/30\n",
      "60000/60000 [==============================] - 5s 87us/step - loss: 0.3451 - acc: 0.8775 - val_loss: 0.3829 - val_acc: 0.8635\n",
      "Epoch 19/30\n",
      "60000/60000 [==============================] - 5s 85us/step - loss: 0.3410 - acc: 0.8783 - val_loss: 0.3780 - val_acc: 0.8663\n",
      "Epoch 20/30\n",
      "60000/60000 [==============================] - 5s 88us/step - loss: 0.3348 - acc: 0.8811 - val_loss: 0.3761 - val_acc: 0.8654\n",
      "Epoch 21/30\n",
      "60000/60000 [==============================] - 5s 87us/step - loss: 0.3288 - acc: 0.8825 - val_loss: 0.3728 - val_acc: 0.8685\n",
      "Epoch 22/30\n",
      "60000/60000 [==============================] - 5s 91us/step - loss: 0.3243 - acc: 0.8834 - val_loss: 0.3768 - val_acc: 0.8669\n",
      "Epoch 23/30\n",
      "60000/60000 [==============================] - 5s 86us/step - loss: 0.3198 - acc: 0.8848 - val_loss: 0.3702 - val_acc: 0.8687\n",
      "Epoch 24/30\n",
      "60000/60000 [==============================] - 6s 93us/step - loss: 0.3143 - acc: 0.8867 - val_loss: 0.3700 - val_acc: 0.8694\n",
      "Epoch 25/30\n",
      "60000/60000 [==============================] - 6s 106us/step - loss: 0.3101 - acc: 0.8874 - val_loss: 0.3662 - val_acc: 0.8717\n",
      "Epoch 26/30\n",
      "60000/60000 [==============================] - 6s 103us/step - loss: 0.3054 - acc: 0.8901 - val_loss: 0.3719 - val_acc: 0.8688\n",
      "Epoch 27/30\n",
      "60000/60000 [==============================] - 6s 104us/step - loss: 0.3044 - acc: 0.8905 - val_loss: 0.3756 - val_acc: 0.8653\n",
      "Epoch 28/30\n",
      "60000/60000 [==============================] - 6s 95us/step - loss: 0.2993 - acc: 0.8918 - val_loss: 0.3685 - val_acc: 0.8706\n",
      "Epoch 29/30\n",
      "60000/60000 [==============================] - 6s 97us/step - loss: 0.2964 - acc: 0.8921 - val_loss: 0.3651 - val_acc: 0.8706\n",
      "Epoch 30/30\n",
      "60000/60000 [==============================] - 5s 85us/step - loss: 0.2929 - acc: 0.8939 - val_loss: 0.3742 - val_acc: 0.8692\n"
     ]
    },
    {
     "data": {
      "text/plain": [
       "<tensorflow.python.keras.callbacks.History at 0x2430430fda0>"
      ]
     },
     "execution_count": 39,
     "metadata": {},
     "output_type": "execute_result"
    }
   ],
   "source": [
    "model2.fit(trainX,trainY,          \n",
    "          validation_data=(testX,testY),\n",
    "          epochs=30,\n",
    "          batch_size=32)"
   ]
  },
  {
   "cell_type": "code",
   "execution_count": null,
   "metadata": {},
   "outputs": [],
   "source": []
  }
 ],
 "metadata": {
  "kernelspec": {
   "display_name": "Python 3",
   "language": "python",
   "name": "python3"
  },
  "language_info": {
   "codemirror_mode": {
    "name": "ipython",
    "version": 3
   },
   "file_extension": ".py",
   "mimetype": "text/x-python",
   "name": "python",
   "nbconvert_exporter": "python",
   "pygments_lexer": "ipython3",
   "version": "3.6.5"
  }
 },
 "nbformat": 4,
 "nbformat_minor": 2
}
